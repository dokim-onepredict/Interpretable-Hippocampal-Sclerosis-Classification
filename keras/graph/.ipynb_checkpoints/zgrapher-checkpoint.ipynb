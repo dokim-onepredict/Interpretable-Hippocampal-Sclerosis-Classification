{
 "cells": [
  {
   "cell_type": "code",
   "execution_count": 62,
   "metadata": {},
   "outputs": [],
   "source": [
    "import scipy.io as io\n",
    "import matplotlib.pyplot as plt\n",
    "import numpy as np\n",
    "import os as os\n",
    "\n",
    "nb_epochs = 1\n",
    "loop_epochs = 5\n",
    "#nb_epochs = 6\n",
    "#loop_epochs = 50\n",
    "\n",
    "nb_KFold = 5\n",
    "imgCountNO = 10\n",
    "imgCountYES = 10\n",
    "imgCount = imgCountNO + imgCountYES"
   ]
  },
  {
   "cell_type": "code",
   "execution_count": 104,
   "metadata": {},
   "outputs": [],
   "source": [
    "KERNEL_SEED = 1\n",
    "TRIAL = 1\n",
    "foldNum = 5"
   ]
  },
  {
   "cell_type": "code",
   "execution_count": 105,
   "metadata": {},
   "outputs": [
    {
     "ename": "TypeError",
     "evalue": "not enough arguments for format string",
     "output_type": "error",
     "traceback": [
      "\u001b[0;31m---------------------------------------------------------------------------\u001b[0m",
      "\u001b[0;31mTypeError\u001b[0m                                 Traceback (most recent call last)",
      "\u001b[0;32m<ipython-input-105-bade2a194943>\u001b[0m in \u001b[0;36m<module>\u001b[0;34m\u001b[0m\n\u001b[1;32m      5\u001b[0m     \u001b[0mval_loss\u001b[0m \u001b[0;34m=\u001b[0m \u001b[0mio\u001b[0m\u001b[0;34m.\u001b[0m\u001b[0mloadmat\u001b[0m\u001b[0;34m(\u001b[0m\u001b[0;34m'T%dK%d_historyTrain.val_loss[%d].mat'\u001b[0m \u001b[0;34m%\u001b[0m\u001b[0;34m(\u001b[0m\u001b[0mTRIAL\u001b[0m\u001b[0;34m,\u001b[0m\u001b[0mKERNEL_SEED\u001b[0m\u001b[0;34m,\u001b[0m\u001b[0mfoldNum\u001b[0m\u001b[0;34m)\u001b[0m\u001b[0;34m)\u001b[0m\u001b[0;34m\u001b[0m\u001b[0m\n\u001b[1;32m      6\u001b[0m \u001b[0;32melif\u001b[0m\u001b[0;34m(\u001b[0m\u001b[0mfoldNum\u001b[0m\u001b[0;34m==\u001b[0m\u001b[0;36m5\u001b[0m\u001b[0;34m)\u001b[0m\u001b[0;34m:\u001b[0m\u001b[0;34m\u001b[0m\u001b[0m\n\u001b[0;32m----> 7\u001b[0;31m     \u001b[0mtrain_acc\u001b[0m \u001b[0;34m=\u001b[0m \u001b[0mio\u001b[0m\u001b[0;34m.\u001b[0m\u001b[0mloadmat\u001b[0m\u001b[0;34m(\u001b[0m\u001b[0;34m'T%dK%d_historyTrain.train_acc[%d].mat'\u001b[0m \u001b[0;34m%\u001b[0m\u001b[0;34m(\u001b[0m\u001b[0mTRIAL\u001b[0m\u001b[0;34m,\u001b[0m\u001b[0mKERNEL_SEED\u001b[0m\u001b[0;34m)\u001b[0m\u001b[0;34m)\u001b[0m\u001b[0;34m\u001b[0m\u001b[0m\n\u001b[0m\u001b[1;32m      8\u001b[0m     \u001b[0mval_acc\u001b[0m \u001b[0;34m=\u001b[0m \u001b[0mio\u001b[0m\u001b[0;34m.\u001b[0m\u001b[0mloadmat\u001b[0m\u001b[0;34m(\u001b[0m\u001b[0;34m'T%dK%d_historyTrain.val_acc[%d].mat'\u001b[0m \u001b[0;34m%\u001b[0m\u001b[0;34m(\u001b[0m\u001b[0mTRIAL\u001b[0m\u001b[0;34m,\u001b[0m\u001b[0mKERNEL_SEED\u001b[0m\u001b[0;34m)\u001b[0m\u001b[0;34m)\u001b[0m\u001b[0;34m\u001b[0m\u001b[0m\n\u001b[1;32m      9\u001b[0m     \u001b[0mtrain_loss\u001b[0m \u001b[0;34m=\u001b[0m \u001b[0mio\u001b[0m\u001b[0;34m.\u001b[0m\u001b[0mloadmat\u001b[0m\u001b[0;34m(\u001b[0m\u001b[0;34m'T%dK%d_historyTrain.train_loss[%d].mat'\u001b[0m \u001b[0;34m%\u001b[0m\u001b[0;34m(\u001b[0m\u001b[0mTRIAL\u001b[0m\u001b[0;34m,\u001b[0m\u001b[0mKERNEL_SEED\u001b[0m\u001b[0;34m)\u001b[0m\u001b[0;34m)\u001b[0m\u001b[0;34m\u001b[0m\u001b[0m\n",
      "\u001b[0;31mTypeError\u001b[0m: not enough arguments for format string"
     ]
    }
   ],
   "source": [
    "if(foldNum<5):\n",
    "    train_acc = io.loadmat('T%dK%d_historyTrain.train_acc[%d].mat' %(TRIAL,KERNEL_SEED,foldNum))\n",
    "    val_acc = io.loadmat('T%dK%d_historyTrain.val_acc[%d].mat' %(TRIAL,KERNEL_SEED,foldNum))\n",
    "    train_loss = io.loadmat('T%dK%d_historyTrain.train_loss[%d].mat' %(TRIAL,KERNEL_SEED,foldNum))\n",
    "    val_loss = io.loadmat('T%dK%d_historyTrain.val_loss[%d].mat' %(TRIAL,KERNEL_SEED,foldNum))\n",
    "elif(foldNum==5):\n",
    "    train_acc = io.loadmat('T%dK%d_historyTrain.train_acc[%d].mat' %(TRIAL,KERNEL_SEED))\n",
    "    val_acc = io.loadmat('T%dK%d_historyTrain.val_acc[%d].mat' %(TRIAL,KERNEL_SEED))\n",
    "    train_loss = io.loadmat('T%dK%d_historyTrain.train_loss[%d].mat' %(TRIAL,KERNEL_SEED))\n",
    "    val_loss = io.loadmat('T%dK%d_historyTrain.val_loss[%d].mat' %(TRIAL,KERNEL_SEED))"
   ]
  },
  {
   "cell_type": "code",
   "execution_count": 106,
   "metadata": {},
   "outputs": [],
   "source": [
    "\n",
    "def figureHistory(foldNum,val_acc,val_loss,train_acc,train_loss,KERNEL_SEED, TRIAL):\n",
    "    fig = plt.figure()\n",
    "    ax_acc = fig.add_subplot(111)\n",
    "\n",
    "    # ax_acc.plot(range(nb_epochs), val_acc, label='acc(%)', color='darkred')\n",
    "    ax_acc.plot(range(nb_epochs*loop_epochs), val_acc, label='acc(%)', color='darkred')\n",
    "    plt.xlabel('epochs')\n",
    "    plt.ylabel('acc(%)')\n",
    "    ax_acc.grid(linestyle='--', color='lavender')\n",
    "    plt.yticks(np.arange(0.4,1.1,0.1))\n",
    "    plt.rc('xtick', labelsize=10)    # fontsize of the tick labels\n",
    "\n",
    "    # val_loss maximum value limit\n",
    "    for index, value in enumerate(val_loss):\n",
    "        if value > 2.6:\n",
    "            val_loss[index] = 2.6\n",
    "    \n",
    "    ax_loss = ax_acc.twinx()\n",
    "    # ax_loss.plot(range(nb_epochs), val_loss, label='loss', color='darkblue')\n",
    "    ax_loss.plot(range(nb_epochs*loop_epochs), val_loss, label='loss', color='darkblue')\n",
    "    plt.ylabel('loss')\n",
    "    ax_loss.yaxis.tick_right()\n",
    "    plt.yticks(np.arange(0.2,2.8,0.2))\n",
    "    # ax_loss.grid(linestyle='--', color='lavender')\n",
    "\n",
    "    plt.legend()\n",
    "    if(foldNum == nb_KFold):\n",
    "        saveFileName = './[T%dK%d]_val_mean.png' %(TRIAL,KERNEL_SEED)  \n",
    "    else:\n",
    "        saveFileName = './[T%dK%d]val_%d.png' %(TRIAL,KERNEL_SEED,foldNum+1)\n",
    "\n",
    "    plt.savefig(saveFileName)\n",
    "    # plt.show()\n",
    "    ax_acc.legend()\n",
    "\n",
    "    fig1 = plt.figure()\n",
    "    ax_acc1 = fig1.add_subplot(111)\n",
    "\n",
    "    # ax_acc1.plot(range(nb_epochs), train_acc, label='acc(%)', color='darkred')\n",
    "    ax_acc1.plot(range(nb_epochs*loop_epochs), train_acc, label='acc(%)', color='darkred')\n",
    "    plt.xlabel('epochs')\n",
    "    plt.ylabel('acc(%)')\n",
    "    ax_acc1.grid(linestyle='--', color='lavender')\n",
    "    plt.yticks(np.arange(0.4,1.1,0.1))\n",
    "    plt.rc('xtick', labelsize=10)    # fontsize of the tick labels\n",
    "\n",
    "    ax_loss = ax_acc1.twinx()\n",
    "    # ax_loss.plot(range(nb_epochs), train_loss, label='loss', color='darkblue')\n",
    "    ax_loss.plot(range(nb_epochs*loop_epochs), train_loss, label='loss', color='darkblue')\n",
    "    plt.ylabel('loss')\n",
    "    ax_loss.yaxis.tick_right()\n",
    "    ax_loss.grid(linestyle='--', color='lavender')\n",
    "    # ticks every 0.1\n",
    "\n",
    "    plt.legend()\n",
    "    ax_acc.legend()\n",
    "    if(foldNum == nb_KFold):\n",
    "        saveFileName = './[T%dK%d]train_mean.png' %(TRIAL,KERNEL_SEED)  \n",
    "    else:\n",
    "        saveFileName = './[T%dK%d]train_%d.png' %(TRIAL,KERNEL_SEED,foldNum+1)\n",
    "        \n",
    "    plt.savefig(saveFileName)\n",
    "    # plt.savefig('./graph/hs_train1.png')\n",
    "    # plt.show()\n",
    "\n",
    "    return \n"
   ]
  },
  {
   "cell_type": "code",
   "execution_count": 107,
   "metadata": {},
   "outputs": [],
   "source": [
    "def historyMeanHS(foldNum,val_loss,val_acc,train_loss,train_acc,KERNEL_SEED, TRIAL):\n",
    "    avr_val_loss = np.mean(val_loss, axis = 0)\n",
    "    avr_val_acc = np.mean(val_acc, axis = 0)\n",
    "    avr_train_loss = np.mean(train_loss, axis = 0)\n",
    "    avr_train_acc = np.mean(train_acc, axis = 0)\n",
    "\n",
    "    #Draw acc, val score graph Start.\n",
    "    figureHistory(foldNum, avr_val_acc,avr_val_loss,avr_train_acc,avr_train_loss, KERNEL_SEED, TRIAL)\n",
    "    return "
   ]
  },
  {
   "cell_type": "code",
   "execution_count": 108,
   "metadata": {},
   "outputs": [
    {
     "ename": "ValueError",
     "evalue": "x and y must have same first dimension, but have shapes (5,) and (1,)",
     "output_type": "error",
     "traceback": [
      "\u001b[0;31m---------------------------------------------------------------------------\u001b[0m",
      "\u001b[0;31mValueError\u001b[0m                                Traceback (most recent call last)",
      "\u001b[0;32m<ipython-input-108-99228b855f68>\u001b[0m in \u001b[0;36m<module>\u001b[0;34m\u001b[0m\n\u001b[1;32m      7\u001b[0m     \u001b[0mfigureHistory\u001b[0m\u001b[0;34m(\u001b[0m\u001b[0mfoldNum\u001b[0m\u001b[0;34m,\u001b[0m\u001b[0mvacc\u001b[0m\u001b[0;34m,\u001b[0m\u001b[0mvloss\u001b[0m\u001b[0;34m,\u001b[0m\u001b[0mtacc\u001b[0m\u001b[0;34m,\u001b[0m\u001b[0mtloss\u001b[0m\u001b[0;34m,\u001b[0m\u001b[0mKERNEL_SEED\u001b[0m\u001b[0;34m,\u001b[0m \u001b[0mTRIAL\u001b[0m\u001b[0;34m)\u001b[0m\u001b[0;34m\u001b[0m\u001b[0m\n\u001b[1;32m      8\u001b[0m \u001b[0;32melif\u001b[0m\u001b[0;34m(\u001b[0m\u001b[0mfoldNum\u001b[0m \u001b[0;34m==\u001b[0m \u001b[0;36m5\u001b[0m\u001b[0;34m)\u001b[0m\u001b[0;34m:\u001b[0m\u001b[0;34m\u001b[0m\u001b[0m\n\u001b[0;32m----> 9\u001b[0;31m     \u001b[0mhistoryMeanHS\u001b[0m\u001b[0;34m(\u001b[0m\u001b[0mfoldNum\u001b[0m\u001b[0;34m,\u001b[0m\u001b[0mvacc\u001b[0m\u001b[0;34m,\u001b[0m\u001b[0mvloss\u001b[0m\u001b[0;34m,\u001b[0m\u001b[0mtacc\u001b[0m\u001b[0;34m,\u001b[0m\u001b[0mtloss\u001b[0m\u001b[0;34m,\u001b[0m\u001b[0mKERNEL_SEED\u001b[0m\u001b[0;34m,\u001b[0m \u001b[0mTRIAL\u001b[0m\u001b[0;34m)\u001b[0m\u001b[0;34m\u001b[0m\u001b[0m\n\u001b[0m",
      "\u001b[0;32m<ipython-input-107-3523a37b28b6>\u001b[0m in \u001b[0;36mhistoryMeanHS\u001b[0;34m(foldNum, val_loss, val_acc, train_loss, train_acc, KERNEL_SEED, TRIAL)\u001b[0m\n\u001b[1;32m      6\u001b[0m \u001b[0;34m\u001b[0m\u001b[0m\n\u001b[1;32m      7\u001b[0m     \u001b[0;31m#Draw acc, val score graph Start.\u001b[0m\u001b[0;34m\u001b[0m\u001b[0;34m\u001b[0m\u001b[0m\n\u001b[0;32m----> 8\u001b[0;31m     \u001b[0mfigureHistory\u001b[0m\u001b[0;34m(\u001b[0m\u001b[0mfoldNum\u001b[0m\u001b[0;34m,\u001b[0m \u001b[0mavr_val_acc\u001b[0m\u001b[0;34m,\u001b[0m\u001b[0mavr_val_loss\u001b[0m\u001b[0;34m,\u001b[0m\u001b[0mavr_train_acc\u001b[0m\u001b[0;34m,\u001b[0m\u001b[0mavr_train_loss\u001b[0m\u001b[0;34m,\u001b[0m \u001b[0mKERNEL_SEED\u001b[0m\u001b[0;34m,\u001b[0m \u001b[0mTRIAL\u001b[0m\u001b[0;34m)\u001b[0m\u001b[0;34m\u001b[0m\u001b[0m\n\u001b[0m\u001b[1;32m      9\u001b[0m     \u001b[0;32mreturn\u001b[0m\u001b[0;34m\u001b[0m\u001b[0m\n",
      "\u001b[0;32m<ipython-input-106-9ee182ae61bb>\u001b[0m in \u001b[0;36mfigureHistory\u001b[0;34m(foldNum, val_acc, val_loss, train_acc, train_loss, KERNEL_SEED, TRIAL)\u001b[0m\n\u001b[1;32m      4\u001b[0m \u001b[0;34m\u001b[0m\u001b[0m\n\u001b[1;32m      5\u001b[0m     \u001b[0;31m# ax_acc.plot(range(nb_epochs), val_acc, label='acc(%)', color='darkred')\u001b[0m\u001b[0;34m\u001b[0m\u001b[0;34m\u001b[0m\u001b[0m\n\u001b[0;32m----> 6\u001b[0;31m     \u001b[0max_acc\u001b[0m\u001b[0;34m.\u001b[0m\u001b[0mplot\u001b[0m\u001b[0;34m(\u001b[0m\u001b[0mrange\u001b[0m\u001b[0;34m(\u001b[0m\u001b[0mnb_epochs\u001b[0m\u001b[0;34m*\u001b[0m\u001b[0mloop_epochs\u001b[0m\u001b[0;34m)\u001b[0m\u001b[0;34m,\u001b[0m \u001b[0mval_acc\u001b[0m\u001b[0;34m,\u001b[0m \u001b[0mlabel\u001b[0m\u001b[0;34m=\u001b[0m\u001b[0;34m'acc(%)'\u001b[0m\u001b[0;34m,\u001b[0m \u001b[0mcolor\u001b[0m\u001b[0;34m=\u001b[0m\u001b[0;34m'darkred'\u001b[0m\u001b[0;34m)\u001b[0m\u001b[0;34m\u001b[0m\u001b[0m\n\u001b[0m\u001b[1;32m      7\u001b[0m     \u001b[0mplt\u001b[0m\u001b[0;34m.\u001b[0m\u001b[0mxlabel\u001b[0m\u001b[0;34m(\u001b[0m\u001b[0;34m'epochs'\u001b[0m\u001b[0;34m)\u001b[0m\u001b[0;34m\u001b[0m\u001b[0m\n\u001b[1;32m      8\u001b[0m     \u001b[0mplt\u001b[0m\u001b[0;34m.\u001b[0m\u001b[0mylabel\u001b[0m\u001b[0;34m(\u001b[0m\u001b[0;34m'acc(%)'\u001b[0m\u001b[0;34m)\u001b[0m\u001b[0;34m\u001b[0m\u001b[0m\n",
      "\u001b[0;32m/usr/local/lib/python3.5/dist-packages/matplotlib/__init__.py\u001b[0m in \u001b[0;36minner\u001b[0;34m(ax, data, *args, **kwargs)\u001b[0m\n\u001b[1;32m   1808\u001b[0m                         \u001b[0;34m\"the Matplotlib list!)\"\u001b[0m \u001b[0;34m%\u001b[0m \u001b[0;34m(\u001b[0m\u001b[0mlabel_namer\u001b[0m\u001b[0;34m,\u001b[0m \u001b[0mfunc\u001b[0m\u001b[0;34m.\u001b[0m\u001b[0m__name__\u001b[0m\u001b[0;34m)\u001b[0m\u001b[0;34m,\u001b[0m\u001b[0;34m\u001b[0m\u001b[0m\n\u001b[1;32m   1809\u001b[0m                         RuntimeWarning, stacklevel=2)\n\u001b[0;32m-> 1810\u001b[0;31m             \u001b[0;32mreturn\u001b[0m \u001b[0mfunc\u001b[0m\u001b[0;34m(\u001b[0m\u001b[0max\u001b[0m\u001b[0;34m,\u001b[0m \u001b[0;34m*\u001b[0m\u001b[0margs\u001b[0m\u001b[0;34m,\u001b[0m \u001b[0;34m**\u001b[0m\u001b[0mkwargs\u001b[0m\u001b[0;34m)\u001b[0m\u001b[0;34m\u001b[0m\u001b[0m\n\u001b[0m\u001b[1;32m   1811\u001b[0m \u001b[0;34m\u001b[0m\u001b[0m\n\u001b[1;32m   1812\u001b[0m         inner.__doc__ = _add_data_doc(inner.__doc__,\n",
      "\u001b[0;32m/usr/local/lib/python3.5/dist-packages/matplotlib/axes/_axes.py\u001b[0m in \u001b[0;36mplot\u001b[0;34m(self, scalex, scaley, *args, **kwargs)\u001b[0m\n\u001b[1;32m   1609\u001b[0m         \u001b[0mkwargs\u001b[0m \u001b[0;34m=\u001b[0m \u001b[0mcbook\u001b[0m\u001b[0;34m.\u001b[0m\u001b[0mnormalize_kwargs\u001b[0m\u001b[0;34m(\u001b[0m\u001b[0mkwargs\u001b[0m\u001b[0;34m,\u001b[0m \u001b[0mmlines\u001b[0m\u001b[0;34m.\u001b[0m\u001b[0mLine2D\u001b[0m\u001b[0;34m.\u001b[0m\u001b[0m_alias_map\u001b[0m\u001b[0;34m)\u001b[0m\u001b[0;34m\u001b[0m\u001b[0m\n\u001b[1;32m   1610\u001b[0m \u001b[0;34m\u001b[0m\u001b[0m\n\u001b[0;32m-> 1611\u001b[0;31m         \u001b[0;32mfor\u001b[0m \u001b[0mline\u001b[0m \u001b[0;32min\u001b[0m \u001b[0mself\u001b[0m\u001b[0;34m.\u001b[0m\u001b[0m_get_lines\u001b[0m\u001b[0;34m(\u001b[0m\u001b[0;34m*\u001b[0m\u001b[0margs\u001b[0m\u001b[0;34m,\u001b[0m \u001b[0;34m**\u001b[0m\u001b[0mkwargs\u001b[0m\u001b[0;34m)\u001b[0m\u001b[0;34m:\u001b[0m\u001b[0;34m\u001b[0m\u001b[0m\n\u001b[0m\u001b[1;32m   1612\u001b[0m             \u001b[0mself\u001b[0m\u001b[0;34m.\u001b[0m\u001b[0madd_line\u001b[0m\u001b[0;34m(\u001b[0m\u001b[0mline\u001b[0m\u001b[0;34m)\u001b[0m\u001b[0;34m\u001b[0m\u001b[0m\n\u001b[1;32m   1613\u001b[0m             \u001b[0mlines\u001b[0m\u001b[0;34m.\u001b[0m\u001b[0mappend\u001b[0m\u001b[0;34m(\u001b[0m\u001b[0mline\u001b[0m\u001b[0;34m)\u001b[0m\u001b[0;34m\u001b[0m\u001b[0m\n",
      "\u001b[0;32m/usr/local/lib/python3.5/dist-packages/matplotlib/axes/_base.py\u001b[0m in \u001b[0;36m_grab_next_args\u001b[0;34m(self, *args, **kwargs)\u001b[0m\n\u001b[1;32m    391\u001b[0m                 \u001b[0mthis\u001b[0m \u001b[0;34m+=\u001b[0m \u001b[0margs\u001b[0m\u001b[0;34m[\u001b[0m\u001b[0;36m0\u001b[0m\u001b[0;34m]\u001b[0m\u001b[0;34m,\u001b[0m\u001b[0;34m\u001b[0m\u001b[0m\n\u001b[1;32m    392\u001b[0m                 \u001b[0margs\u001b[0m \u001b[0;34m=\u001b[0m \u001b[0margs\u001b[0m\u001b[0;34m[\u001b[0m\u001b[0;36m1\u001b[0m\u001b[0;34m:\u001b[0m\u001b[0;34m]\u001b[0m\u001b[0;34m\u001b[0m\u001b[0m\n\u001b[0;32m--> 393\u001b[0;31m             \u001b[0;32myield\u001b[0m \u001b[0;32mfrom\u001b[0m \u001b[0mself\u001b[0m\u001b[0;34m.\u001b[0m\u001b[0m_plot_args\u001b[0m\u001b[0;34m(\u001b[0m\u001b[0mthis\u001b[0m\u001b[0;34m,\u001b[0m \u001b[0mkwargs\u001b[0m\u001b[0;34m)\u001b[0m\u001b[0;34m\u001b[0m\u001b[0m\n\u001b[0m\u001b[1;32m    394\u001b[0m \u001b[0;34m\u001b[0m\u001b[0m\n\u001b[1;32m    395\u001b[0m \u001b[0;34m\u001b[0m\u001b[0m\n",
      "\u001b[0;32m/usr/local/lib/python3.5/dist-packages/matplotlib/axes/_base.py\u001b[0m in \u001b[0;36m_plot_args\u001b[0;34m(self, tup, kwargs)\u001b[0m\n\u001b[1;32m    368\u001b[0m             \u001b[0mx\u001b[0m\u001b[0;34m,\u001b[0m \u001b[0my\u001b[0m \u001b[0;34m=\u001b[0m \u001b[0mindex_of\u001b[0m\u001b[0;34m(\u001b[0m\u001b[0mtup\u001b[0m\u001b[0;34m[\u001b[0m\u001b[0;34m-\u001b[0m\u001b[0;36m1\u001b[0m\u001b[0;34m]\u001b[0m\u001b[0;34m)\u001b[0m\u001b[0;34m\u001b[0m\u001b[0m\n\u001b[1;32m    369\u001b[0m \u001b[0;34m\u001b[0m\u001b[0m\n\u001b[0;32m--> 370\u001b[0;31m         \u001b[0mx\u001b[0m\u001b[0;34m,\u001b[0m \u001b[0my\u001b[0m \u001b[0;34m=\u001b[0m \u001b[0mself\u001b[0m\u001b[0;34m.\u001b[0m\u001b[0m_xy_from_xy\u001b[0m\u001b[0;34m(\u001b[0m\u001b[0mx\u001b[0m\u001b[0;34m,\u001b[0m \u001b[0my\u001b[0m\u001b[0;34m)\u001b[0m\u001b[0;34m\u001b[0m\u001b[0m\n\u001b[0m\u001b[1;32m    371\u001b[0m \u001b[0;34m\u001b[0m\u001b[0m\n\u001b[1;32m    372\u001b[0m         \u001b[0;32mif\u001b[0m \u001b[0mself\u001b[0m\u001b[0;34m.\u001b[0m\u001b[0mcommand\u001b[0m \u001b[0;34m==\u001b[0m \u001b[0;34m'plot'\u001b[0m\u001b[0;34m:\u001b[0m\u001b[0;34m\u001b[0m\u001b[0m\n",
      "\u001b[0;32m/usr/local/lib/python3.5/dist-packages/matplotlib/axes/_base.py\u001b[0m in \u001b[0;36m_xy_from_xy\u001b[0;34m(self, x, y)\u001b[0m\n\u001b[1;32m    229\u001b[0m         \u001b[0;32mif\u001b[0m \u001b[0mx\u001b[0m\u001b[0;34m.\u001b[0m\u001b[0mshape\u001b[0m\u001b[0;34m[\u001b[0m\u001b[0;36m0\u001b[0m\u001b[0;34m]\u001b[0m \u001b[0;34m!=\u001b[0m \u001b[0my\u001b[0m\u001b[0;34m.\u001b[0m\u001b[0mshape\u001b[0m\u001b[0;34m[\u001b[0m\u001b[0;36m0\u001b[0m\u001b[0;34m]\u001b[0m\u001b[0;34m:\u001b[0m\u001b[0;34m\u001b[0m\u001b[0m\n\u001b[1;32m    230\u001b[0m             raise ValueError(\"x and y must have same first dimension, but \"\n\u001b[0;32m--> 231\u001b[0;31m                              \"have shapes {} and {}\".format(x.shape, y.shape))\n\u001b[0m\u001b[1;32m    232\u001b[0m         \u001b[0;32mif\u001b[0m \u001b[0mx\u001b[0m\u001b[0;34m.\u001b[0m\u001b[0mndim\u001b[0m \u001b[0;34m>\u001b[0m \u001b[0;36m2\u001b[0m \u001b[0;32mor\u001b[0m \u001b[0my\u001b[0m\u001b[0;34m.\u001b[0m\u001b[0mndim\u001b[0m \u001b[0;34m>\u001b[0m \u001b[0;36m2\u001b[0m\u001b[0;34m:\u001b[0m\u001b[0;34m\u001b[0m\u001b[0m\n\u001b[1;32m    233\u001b[0m             raise ValueError(\"x and y can be no greater than 2-D, but have \"\n",
      "\u001b[0;31mValueError\u001b[0m: x and y must have same first dimension, but have shapes (5,) and (1,)"
     ]
    },
    {
     "data": {
      "image/png": "[encoded data removed]",
      "text/plain": [
       "<Figure size 432x288 with 1 Axes>"
      ]
     },
     "metadata": {
      "needs_background": "light"
     },
     "output_type": "display_data"
    }
   ],
   "source": [
    "tacc = np.transpose(train_acc['mydata'])\n",
    "vacc = np.transpose(val_acc['mydata'])\n",
    "tloss = np.transpose(train_loss['mydata'])\n",
    "vloss = np.transpose(val_loss['mydata'])\n",
    "\n",
    "if(foldNum < 5) :\n",
    "    figureHistory(foldNum,vacc,vloss,tacc,tloss,KERNEL_SEED, TRIAL)\n",
    "elif(foldNum == 5):\n",
    "    historyMeanHS(foldNum,vacc,vloss,tacc,tloss,KERNEL_SEED, TRIAL)\n"
   ]
  },
  {
   "cell_type": "code",
   "execution_count": null,
   "metadata": {},
   "outputs": [],
   "source": []
  },
  {
   "cell_type": "code",
   "execution_count": null,
   "metadata": {},
   "outputs": [],
   "source": []
  },
  {
   "cell_type": "code",
   "execution_count": 109,
   "metadata": {},
   "outputs": [
    {
     "ename": "FileNotFoundError",
     "evalue": "[Errno 2] No such file or directory: 'T1K1_Y_true.mat'",
     "output_type": "error",
     "traceback": [
      "\u001b[0;31m---------------------------------------------------------------------------\u001b[0m",
      "\u001b[0;31mFileNotFoundError\u001b[0m                         Traceback (most recent call last)",
      "\u001b[0;32m/usr/local/lib/python3.5/dist-packages/scipy/io/matlab/mio.py\u001b[0m in \u001b[0;36m_open_file\u001b[0;34m(file_like, appendmat)\u001b[0m\n\u001b[1;32m     30\u001b[0m     \u001b[0;32mtry\u001b[0m\u001b[0;34m:\u001b[0m\u001b[0;34m\u001b[0m\u001b[0m\n\u001b[0;32m---> 31\u001b[0;31m         \u001b[0;32mreturn\u001b[0m \u001b[0mopen\u001b[0m\u001b[0;34m(\u001b[0m\u001b[0mfile_like\u001b[0m\u001b[0;34m,\u001b[0m \u001b[0;34m'rb'\u001b[0m\u001b[0;34m)\u001b[0m\u001b[0;34m,\u001b[0m \u001b[0;32mTrue\u001b[0m\u001b[0;34m\u001b[0m\u001b[0m\n\u001b[0m\u001b[1;32m     32\u001b[0m     \u001b[0;32mexcept\u001b[0m \u001b[0mIOError\u001b[0m\u001b[0;34m:\u001b[0m\u001b[0;34m\u001b[0m\u001b[0m\n",
      "\u001b[0;31mFileNotFoundError\u001b[0m: [Errno 2] No such file or directory: 'T1K1_Y_true.mat'",
      "\nDuring handling of the above exception, another exception occurred:\n",
      "\u001b[0;31mFileNotFoundError\u001b[0m                         Traceback (most recent call last)",
      "\u001b[0;32m<ipython-input-109-dc4fb5dab37a>\u001b[0m in \u001b[0;36m<module>\u001b[0;34m\u001b[0m\n\u001b[1;32m     11\u001b[0m \u001b[0;34m\u001b[0m\u001b[0m\n\u001b[1;32m     12\u001b[0m \u001b[0;34m\u001b[0m\u001b[0m\n\u001b[0;32m---> 13\u001b[0;31m \u001b[0mYt\u001b[0m \u001b[0;34m=\u001b[0m \u001b[0mio\u001b[0m\u001b[0;34m.\u001b[0m\u001b[0mloadmat\u001b[0m\u001b[0;34m(\u001b[0m\u001b[0;34m'T%dK%d_Y_true.mat'\u001b[0m \u001b[0;34m%\u001b[0m\u001b[0;34m(\u001b[0m\u001b[0mTRIAL\u001b[0m\u001b[0;34m,\u001b[0m\u001b[0mKERNEL_SEED\u001b[0m\u001b[0;34m)\u001b[0m\u001b[0;34m)\u001b[0m\u001b[0;34m\u001b[0m\u001b[0m\n\u001b[0m\u001b[1;32m     14\u001b[0m \u001b[0myP\u001b[0m \u001b[0;34m=\u001b[0m \u001b[0mio\u001b[0m\u001b[0;34m.\u001b[0m\u001b[0mloadmat\u001b[0m\u001b[0;34m(\u001b[0m\u001b[0;34m'T%dK%d_yPrediction.mat'\u001b[0m \u001b[0;34m%\u001b[0m\u001b[0;34m(\u001b[0m\u001b[0mTRIAL\u001b[0m\u001b[0;34m,\u001b[0m\u001b[0mKERNEL_SEED\u001b[0m\u001b[0;34m)\u001b[0m\u001b[0;34m)\u001b[0m\u001b[0;34m\u001b[0m\u001b[0m\n\u001b[1;32m     15\u001b[0m \u001b[0myLP\u001b[0m \u001b[0;34m=\u001b[0m \u001b[0mio\u001b[0m\u001b[0;34m.\u001b[0m\u001b[0mloadmat\u001b[0m\u001b[0;34m(\u001b[0m\u001b[0;34m'T%dK%d_yLabelPrediction.mat'\u001b[0m \u001b[0;34m%\u001b[0m\u001b[0;34m(\u001b[0m\u001b[0mTRIAL\u001b[0m\u001b[0;34m,\u001b[0m\u001b[0mKERNEL_SEED\u001b[0m\u001b[0;34m)\u001b[0m\u001b[0;34m)\u001b[0m\u001b[0;34m\u001b[0m\u001b[0m\n",
      "\u001b[0;32m/usr/local/lib/python3.5/dist-packages/scipy/io/matlab/mio.py\u001b[0m in \u001b[0;36mloadmat\u001b[0;34m(file_name, mdict, appendmat, **kwargs)\u001b[0m\n\u001b[1;32m    205\u001b[0m     \"\"\"\n\u001b[1;32m    206\u001b[0m     \u001b[0mvariable_names\u001b[0m \u001b[0;34m=\u001b[0m \u001b[0mkwargs\u001b[0m\u001b[0;34m.\u001b[0m\u001b[0mpop\u001b[0m\u001b[0;34m(\u001b[0m\u001b[0;34m'variable_names'\u001b[0m\u001b[0;34m,\u001b[0m \u001b[0;32mNone\u001b[0m\u001b[0;34m)\u001b[0m\u001b[0;34m\u001b[0m\u001b[0m\n\u001b[0;32m--> 207\u001b[0;31m     \u001b[0mMR\u001b[0m\u001b[0;34m,\u001b[0m \u001b[0mfile_opened\u001b[0m \u001b[0;34m=\u001b[0m \u001b[0mmat_reader_factory\u001b[0m\u001b[0;34m(\u001b[0m\u001b[0mfile_name\u001b[0m\u001b[0;34m,\u001b[0m \u001b[0mappendmat\u001b[0m\u001b[0;34m,\u001b[0m \u001b[0;34m**\u001b[0m\u001b[0mkwargs\u001b[0m\u001b[0;34m)\u001b[0m\u001b[0;34m\u001b[0m\u001b[0m\n\u001b[0m\u001b[1;32m    208\u001b[0m     \u001b[0mmatfile_dict\u001b[0m \u001b[0;34m=\u001b[0m \u001b[0mMR\u001b[0m\u001b[0;34m.\u001b[0m\u001b[0mget_variables\u001b[0m\u001b[0;34m(\u001b[0m\u001b[0mvariable_names\u001b[0m\u001b[0;34m)\u001b[0m\u001b[0;34m\u001b[0m\u001b[0m\n\u001b[1;32m    209\u001b[0m     \u001b[0;32mif\u001b[0m \u001b[0mmdict\u001b[0m \u001b[0;32mis\u001b[0m \u001b[0;32mnot\u001b[0m \u001b[0;32mNone\u001b[0m\u001b[0;34m:\u001b[0m\u001b[0;34m\u001b[0m\u001b[0m\n",
      "\u001b[0;32m/usr/local/lib/python3.5/dist-packages/scipy/io/matlab/mio.py\u001b[0m in \u001b[0;36mmat_reader_factory\u001b[0;34m(file_name, appendmat, **kwargs)\u001b[0m\n\u001b[1;32m     60\u001b[0m \u001b[0;34m\u001b[0m\u001b[0m\n\u001b[1;32m     61\u001b[0m     \"\"\"\n\u001b[0;32m---> 62\u001b[0;31m     \u001b[0mbyte_stream\u001b[0m\u001b[0;34m,\u001b[0m \u001b[0mfile_opened\u001b[0m \u001b[0;34m=\u001b[0m \u001b[0m_open_file\u001b[0m\u001b[0;34m(\u001b[0m\u001b[0mfile_name\u001b[0m\u001b[0;34m,\u001b[0m \u001b[0mappendmat\u001b[0m\u001b[0;34m)\u001b[0m\u001b[0;34m\u001b[0m\u001b[0m\n\u001b[0m\u001b[1;32m     63\u001b[0m     \u001b[0mmjv\u001b[0m\u001b[0;34m,\u001b[0m \u001b[0mmnv\u001b[0m \u001b[0;34m=\u001b[0m \u001b[0mget_matfile_version\u001b[0m\u001b[0;34m(\u001b[0m\u001b[0mbyte_stream\u001b[0m\u001b[0;34m)\u001b[0m\u001b[0;34m\u001b[0m\u001b[0m\n\u001b[1;32m     64\u001b[0m     \u001b[0;32mif\u001b[0m \u001b[0mmjv\u001b[0m \u001b[0;34m==\u001b[0m \u001b[0;36m0\u001b[0m\u001b[0;34m:\u001b[0m\u001b[0;34m\u001b[0m\u001b[0m\n",
      "\u001b[0;32m/usr/local/lib/python3.5/dist-packages/scipy/io/matlab/mio.py\u001b[0m in \u001b[0;36m_open_file\u001b[0;34m(file_like, appendmat)\u001b[0m\n\u001b[1;32m     35\u001b[0m             \u001b[0;32mif\u001b[0m \u001b[0mappendmat\u001b[0m \u001b[0;32mand\u001b[0m \u001b[0;32mnot\u001b[0m \u001b[0mfile_like\u001b[0m\u001b[0;34m.\u001b[0m\u001b[0mendswith\u001b[0m\u001b[0;34m(\u001b[0m\u001b[0;34m'.mat'\u001b[0m\u001b[0;34m)\u001b[0m\u001b[0;34m:\u001b[0m\u001b[0;34m\u001b[0m\u001b[0m\n\u001b[1;32m     36\u001b[0m                 \u001b[0mfile_like\u001b[0m \u001b[0;34m+=\u001b[0m \u001b[0;34m'.mat'\u001b[0m\u001b[0;34m\u001b[0m\u001b[0m\n\u001b[0;32m---> 37\u001b[0;31m             \u001b[0;32mreturn\u001b[0m \u001b[0mopen\u001b[0m\u001b[0;34m(\u001b[0m\u001b[0mfile_like\u001b[0m\u001b[0;34m,\u001b[0m \u001b[0;34m'rb'\u001b[0m\u001b[0;34m)\u001b[0m\u001b[0;34m,\u001b[0m \u001b[0;32mTrue\u001b[0m\u001b[0;34m\u001b[0m\u001b[0m\n\u001b[0m\u001b[1;32m     38\u001b[0m         \u001b[0;32melse\u001b[0m\u001b[0;34m:\u001b[0m\u001b[0;34m\u001b[0m\u001b[0m\n\u001b[1;32m     39\u001b[0m             \u001b[0;32mraise\u001b[0m \u001b[0mIOError\u001b[0m\u001b[0;34m(\u001b[0m\u001b[0;34m'Reader needs file name or open file-like object'\u001b[0m\u001b[0;34m)\u001b[0m\u001b[0;34m\u001b[0m\u001b[0m\n",
      "\u001b[0;31mFileNotFoundError\u001b[0m: [Errno 2] No such file or directory: 'T1K1_Y_true.mat'"
     ]
    }
   ],
   "source": [
    "# Confusion Matrix\n",
    "from sklearn.datasets import fetch_mldata\n",
    "from sklearn.linear_model import SGDClassifier\n",
    "from sklearn.metrics import confusion_matrix\n",
    "from sklearn.model_selection import cross_val_predict\n",
    "from sklearn.metrics import precision_score, recall_score\n",
    "from sklearn.metrics import f1_score\n",
    "from sklearn.metrics import precision_recall_curve\n",
    "from sklearn.metrics import roc_curve\n",
    "from sklearn.metrics import roc_auc_score\n",
    "\n",
    "\n",
    "Yt = io.loadmat('T%dK%d_Y_true.mat' %(TRIAL,KERNEL_SEED))\n",
    "yP = io.loadmat('T%dK%d_yPrediction.mat' %(TRIAL,KERNEL_SEED))\n",
    "yLP = io.loadmat('T%dK%d_yLabelPrediction.mat' %(TRIAL,KERNEL_SEED))\n",
    "\n",
    "Y_true = np.transpose(Yt['mydata'])\n",
    "yPrediction = np.transpose(yP['mydata'])\n",
    "yLabelPrediction = np.transpose(yLP['mydata'])\n",
    "yPrediction = np.reshape(yPrediction,(-1,))\n"
   ]
  },
  {
   "cell_type": "code",
   "execution_count": 110,
   "metadata": {},
   "outputs": [
    {
     "data": {
      "text/plain": [
       "(20,)"
      ]
     },
     "execution_count": 110,
     "metadata": {},
     "output_type": "execute_result"
    }
   ],
   "source": [
    "yPrediction.shape"
   ]
  },
  {
   "cell_type": "code",
   "execution_count": 111,
   "metadata": {},
   "outputs": [
    {
     "data": {
      "image/png": "[encoded data removed]",
      "text/plain": [
       "<Figure size 1440x720 with 1 Axes>"
      ]
     },
     "metadata": {
      "needs_background": "light"
     },
     "output_type": "display_data"
    }
   ],
   "source": [
    "tn, fp, fn, tp = confusion_matrix(Y_true, yLabelPrediction).ravel()\n",
    "\n",
    "\n",
    "precisions, recalls, thresholds = precision_recall_curve(Y_true, yPrediction)\n",
    "# print(np.round_(precisions,3)) \n",
    "# print(recalls) \n",
    "# print(np.round_(thresholds,3)) \n",
    "\n",
    "plt.figure(figsize=(20, 10))\n",
    "temp_log = 'Precison : %0.2f(TP[%d],FP[%d]' %(tp/(tp+fp),tp,fp)\n",
    "plt.subplot(211)\n",
    "plt.title(temp_log)\n",
    "index = np.arange(imgCountNO)\n"
   ]
  },
  {
   "cell_type": "code",
   "execution_count": 112,
   "metadata": {},
   "outputs": [
    {
     "name": "stdout",
     "output_type": "stream",
     "text": [
      "[100.  50. 100. 100.  18.   0.  75.  51.   0. 100.]\n"
     ]
    },
    {
     "data": {
      "image/png": "[encoded data removed]",
      "text/plain": [
       "<Figure size 432x288 with 1 Axes>"
      ]
     },
     "metadata": {
      "needs_background": "light"
     },
     "output_type": "display_data"
    },
    {
     "data": {
      "image/png": "[encoded data removed]",
      "text/plain": [
       "<Figure size 864x360 with 2 Axes>"
      ]
     },
     "metadata": {
      "needs_background": "light"
     },
     "output_type": "display_data"
    },
    {
     "data": {
      "image/png": "[encoded data removed]",
      "text/plain": [
       "<Figure size 360x360 with 1 Axes>"
      ]
     },
     "metadata": {
      "needs_background": "light"
     },
     "output_type": "display_data"
    }
   ],
   "source": [
    "\n",
    "plt.bar(index,100-(100*np.round_(yPrediction[0:imgCountNO],3)),width=0.5,color='r')\n",
    "plt.axis([1, imgCountNO, 0, 100])\n",
    "plt.xticks(np.arange(0,imgCountYES,1))\n",
    "plt.yticks(np.arange(0,101,10))\n",
    "plt.grid(True)\n",
    "\n",
    "temp_log = 'Specificity : %0.2f(TN[%d],FP[%d]' %(tn/(tn+fp),tn,fp)\n",
    "plt.xlabel(temp_log)\n",
    "plt.ylabel('No')\n",
    "\n",
    "plt.subplot(212)\n",
    "index = np.arange(imgCountYES)\n",
    "print(100*np.round_(yPrediction[imgCountNO:imgCount],2))\n",
    "plt.bar(index,100*np.round_(yPrediction[imgCountNO:imgCount],3),width=0.5,color='b')\n",
    "plt.axis([1, imgCountYES, 0, 100])\n",
    "plt.xticks(np.arange(0,imgCountYES,1))\n",
    "plt.yticks(np.arange(0,101,10))\n",
    "\n",
    "plt.rc('xtick', labelsize=5)    # fontsize of the tick labels\n",
    "plt.grid(True)\n",
    "\n",
    "temp_log = 'Sensitivity : %0.2f(TP[%d],FN[%d]' %(tp/(tp+fn),tp,fn)\n",
    "plt.xlabel(temp_log)\n",
    "plt.ylabel('Yes')\n",
    "\n",
    "saveFileName = '[T%dK%d]PredictionPercent.png' %(TRIAL,KERNEL_SEED)\n",
    "plt.savefig(saveFileName)\n",
    "\n",
    "\n",
    "plt.figure(figsize=(12, 5))\n",
    "plt.subplot(121)\n",
    "\n",
    "plt.plot(thresholds, precisions[:-1], label='precision')\n",
    "plt.plot(thresholds, recalls[:-1], label='recall')\n",
    "plt.xlabel('thresholds')\n",
    "plt.legend()\n",
    "\n",
    "plt.subplot(122)\n",
    "plt.plot(recalls,precisions)\n",
    "plt.xlabel('recalls')\n",
    "plt.ylabel('precisions')\n",
    "plt.axis([0, 1.00, 0, 1.00])\n",
    "# temp_log = \"PR socre %0.2f, %0.2f\" %(precision_score(Y_true, yLabelPrediction),recall_score(Y_true, yLabelPrediction))\n",
    "temp_log = \"PR socre %0.2f, %0.2f\" %(precision_score(Y_true, yLabelPrediction),recall_score(Y_true, yLabelPrediction))\n",
    "plt.text(0.5, 0.2, temp_log, fontsize=10)\n",
    "# ticks every 0.1\n",
    "plt.xticks(np.arange(0,1.1,0.1))\n",
    "plt.yticks(np.arange(0,1.1,0.1))\n",
    "plt.grid(True)\n",
    "\n",
    "saveFileName = '[T%dK%d]PR Curve.png' %(TRIAL,KERNEL_SEED)\n",
    "plt.savefig(saveFileName)\n",
    "\n",
    "plt.figure(figsize=(5, 5))\n",
    "\n",
    "fpr, tpr, thresholds = roc_curve(Y_true, yPrediction)   \n",
    "plt.plot(fpr, tpr)\n",
    "plt.xlabel('False Positive Rate')\n",
    "plt.ylabel('True Positive Rate')\n",
    "plt.axis([0, 1.00, 0, 1.00])\n",
    "temp_log = \"AUROC %0.2f\" %(roc_auc_score(Y_true, yPrediction))\n",
    "plt.text(0.7, 0.2, temp_log, fontsize=10)\n",
    "# ticks every 0.1\n",
    "plt.xticks(np.arange(0,1.1,0.1))\n",
    "plt.yticks(np.arange(0,1.1,0.1))\n",
    "plt.grid(True)\n",
    "\n",
    "saveFileName = '[T%dK%d]ROC Curve.png' %(TRIAL,KERNEL_SEED)\n",
    "plt.savefig(saveFileName)\n",
    "# plt.show()\n"
   ]
  },
  {
   "cell_type": "code",
   "execution_count": null,
   "metadata": {},
   "outputs": [],
   "source": []
  },
  {
   "cell_type": "code",
   "execution_count": null,
   "metadata": {},
   "outputs": [],
   "source": []
  },
  {
   "cell_type": "code",
   "execution_count": 117,
   "metadata": {},
   "outputs": [],
   "source": [
    "if(foldNum<5):\n",
    "    train_acc_file = 'T%dK%d_historyTrain.train_acc[%d].mat' %(TRIAL,KERNEL_SEED,foldNum)\n",
    "    val_acc_file = 'T%dK%d_historyTrain.val_acc[%d].mat' %(TRIAL,KERNEL_SEED,foldNum)\n",
    "    train_loss_file = 'T%dK%d_historyTrain.train_loss[%d].mat' %(TRIAL,KERNEL_SEED,foldNum)\n",
    "    val_loss_file = 'T%dK%d_historyTrain.val_loss[%d].mat' %(TRIAL,KERNEL_SEED,foldNum)\n",
    "    if os.path.isfile(train_acc_file):\n",
    "        os.remove(train_acc_file)\n",
    "    if os.path.isfile(val_acc_file):\n",
    "        os.remove(val_acc_file)\n",
    "    if os.path.isfile(train_loss_file):\n",
    "        os.remove(train_loss_file)\n",
    "    if os.path.isfile(val_loss_file):\n",
    "        os.remove(val_loss_file)\n",
    "\n",
    "\n",
    "elif(foldNum==5):\n",
    "    train_acc_file = 'T%dK%d_historyTrain.train_acc.mat' %(TRIAL,KERNEL_SEED)\n",
    "    val_acc_file = 'T%dK%d_historyTrain.val_acc.mat' %(TRIAL,KERNEL_SEED)\n",
    "    train_loss_file = 'T%dK%d_historyTrain.train_loss.mat' %(TRIAL,KERNEL_SEED)\n",
    "    val_loss_file = 'T%dK%d_historyTrain.val_loss.mat' %(TRIAL,KERNEL_SEED)\n",
    "    Yt = 'T%dK%d_Y_true.mat' %(TRIAL,KERNEL_SEED)\n",
    "    yP = 'T%dK%d_yPrediction.mat' %(TRIAL,KERNEL_SEED)\n",
    "    yLP ='T%dK%d_yLabelPrediction.mat' %(TRIAL,KERNEL_SEED)\n",
    "\n",
    "    if os.path.isfile(train_acc_file):\n",
    "        os.remove(train_acc_file)\n",
    "    if os.path.isfile(val_acc_file):\n",
    "        os.remove(val_acc_file)\n",
    "    if os.path.isfile(train_loss_file):\n",
    "        os.remove(train_loss_file)\n",
    "    if os.path.isfile(val_loss_file):\n",
    "        os.remove(val_loss_file)\n",
    "\n",
    "    if os.path.isfile(Yt):\n",
    "        os.remove(Yt)\n",
    "    if os.path.isfile(yP):\n",
    "        os.remove(yP)\n",
    "    if os.path.isfile(yLP):\n",
    "        os.remove(yLP)\n"
   ]
  },
  {
   "cell_type": "code",
   "execution_count": null,
   "metadata": {},
   "outputs": [],
   "source": []
  },
  {
   "cell_type": "code",
   "execution_count": null,
   "metadata": {},
   "outputs": [],
   "source": []
  },
  {
   "cell_type": "code",
   "execution_count": null,
   "metadata": {},
   "outputs": [],
   "source": []
  }
 ],
 "metadata": {
  "kernelspec": {
   "display_name": "Python 3",
   "language": "python",
   "name": "python3"
  },
  "language_info": {
   "codemirror_mode": {
    "name": "ipython",
    "version": 3
   },
   "file_extension": ".py",
   "mimetype": "text/x-python",
   "name": "python",
   "nbconvert_exporter": "python",
   "pygments_lexer": "ipython3",
   "version": "3.5.2"
  }
 },
 "nbformat": 4,
 "nbformat_minor": 4
}
